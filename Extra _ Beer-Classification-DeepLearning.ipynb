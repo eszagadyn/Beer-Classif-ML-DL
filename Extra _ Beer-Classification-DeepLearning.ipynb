{
 "cells": [
  {
   "cell_type": "code",
   "execution_count": 69,
   "metadata": {},
   "outputs": [],
   "source": [
    "import pandas as pd\n",
    "import numpy as np\n",
    "import seaborn as sns\n",
    "import matplotlib.pyplot as plt"
   ]
  },
  {
   "cell_type": "code",
   "execution_count": 70,
   "metadata": {},
   "outputs": [],
   "source": [
    "from sklearn.model_selection import train_test_split\n",
    "from sklearn.preprocessing import StandardScaler\n",
    "from sklearn.metrics import classification_report"
   ]
  },
  {
   "cell_type": "code",
   "execution_count": 71,
   "metadata": {},
   "outputs": [
    {
     "data": {
      "text/plain": [
       "'\\n! conda install -c conda-forge tensorflow --y\\n'"
      ]
     },
     "execution_count": 71,
     "metadata": {},
     "output_type": "execute_result"
    }
   ],
   "source": [
    "# To install tensorflow, uncomment the following line:\n",
    "\n",
    "\"\"\"\n",
    "! conda install -c conda-forge tensorflow --y\n",
    "\"\"\""
   ]
  },
  {
   "cell_type": "code",
   "execution_count": 72,
   "metadata": {},
   "outputs": [],
   "source": [
    "from keras.models import Sequential\n",
    "from keras.layers import Dense, Dropout\n",
    "from keras.optimizers import SGD, Adam, Adadelta, RMSprop\n",
    "from keras.regularizers import l2\n",
    "import keras.backend as K\n",
    "from keras.utils.np_utils import to_categorical\n",
    "from keras.callbacks import EarlyStopping\n",
    "from keras import regularizers"
   ]
  },
  {
   "cell_type": "code",
   "execution_count": 73,
   "metadata": {},
   "outputs": [
    {
     "data": {
      "text/plain": [
       "'\\n! conda install -c conda-forge p7zip --y\\n'"
      ]
     },
     "execution_count": 73,
     "metadata": {},
     "output_type": "execute_result"
    }
   ],
   "source": [
    "# Uncomment to install kaggle API and unzip command\n",
    "# Remember to generate API token on Kaggle website and save it to .kaggle folder in your home directory\n",
    "\n",
    "\"\"\"\n",
    "! conda install -c conda-forge kaggle --y\n",
    "\"\"\"\n",
    "\n",
    "# Uncomment to install unzip command line tools (only for unix-like systems)\n",
    "\n",
    "\"\"\"\n",
    "! conda install -c conda-forge p7zip --y\n",
    "\"\"\""
   ]
  },
  {
   "cell_type": "code",
   "execution_count": 74,
   "metadata": {},
   "outputs": [
    {
     "name": "stdout",
     "output_type": "stream",
     "text": [
      "beer-profile-and-ratings-data-set.zip: Skipping, found more recently modified local copy (use --force to force download)\n"
     ]
    }
   ],
   "source": [
    "# We retrieve the dataset from Kaggle API\n",
    "\n",
    "! kaggle datasets download -d ruthgn/beer-profile-and-ratings-data-set"
   ]
  },
  {
   "cell_type": "code",
   "execution_count": 75,
   "metadata": {},
   "outputs": [
    {
     "name": "stdout",
     "output_type": "stream",
     "text": [
      "\n",
      "7-Zip (a) [64] 16.02 : Copyright (c) 1999-2016 Igor Pavlov : 2016-05-21\n",
      "p7zip Version 16.02 (locale=es_AR.UTF-8,Utf16=on,HugeFiles=on,64 bits,6 CPUs x64)\n",
      "\n",
      "Scanning the drive for archives:\n",
      "  0M Sca        1 file, 504214 bytes (493 KiB)\n",
      "\n",
      "Extracting archive: beer-profile-and-ratings-data-set.zip\n",
      "--\n",
      "Path = beer-profile-and-ratings-data-set.zip\n",
      "Type = zip\n",
      "Physical Size = 504214\n",
      "\n",
      "    Everything is Ok\n",
      "\n",
      "Size:       1249676\n",
      "Compressed: 504214\n"
     ]
    }
   ],
   "source": [
    "# Unpacking the file with comand line unzip (Only works in unix-like systems, in Windows unzip manually)\n",
    "\n",
    "! 7za e beer-profile-and-ratings-data-set.zip \"beer_profile_and_ratings.csv\" -y"
   ]
  },
  {
   "cell_type": "code",
   "execution_count": 76,
   "metadata": {},
   "outputs": [],
   "source": [
    "df = pd.read_csv('beer_profile_and_ratings.csv')"
   ]
  },
  {
   "cell_type": "code",
   "execution_count": 77,
   "metadata": {},
   "outputs": [],
   "source": [
    "# We split the continuous score into two categories\n",
    "\n",
    "def remapeo(cal):\n",
    "    if cal  <= 3:\n",
    "        return 0\n",
    "    elif cal > 3:\n",
    "        return 1\n",
    "\n",
    "\n",
    "# We apply the mapping function to the score column of the dataset:\n",
    "\n",
    "df['review_overall'] = df['review_overall'].apply(remapeo)"
   ]
  },
  {
   "cell_type": "code",
   "execution_count": 78,
   "metadata": {},
   "outputs": [
    {
     "data": {
      "text/plain": [
       "1    2960\n",
       "0     237\n",
       "Name: review_overall, dtype: int64"
      ]
     },
     "execution_count": 78,
     "metadata": {},
     "output_type": "execute_result"
    }
   ],
   "source": [
    "df['review_overall'].value_counts()"
   ]
  },
  {
   "cell_type": "code",
   "execution_count": 79,
   "metadata": {},
   "outputs": [],
   "source": [
    "# Since word count for every feature is computed with up to 25 reviews, we eliminate rows with less than 25 reviews to avoid artificially low word counts.\n",
    "\n",
    "mask_few_reviews = df['number_of_reviews'] > 24\n",
    "df = df[mask_few_reviews]"
   ]
  },
  {
   "cell_type": "code",
   "execution_count": 80,
   "metadata": {},
   "outputs": [
    {
     "data": {
      "text/plain": [
       "(2363, 25)"
      ]
     },
     "execution_count": 80,
     "metadata": {},
     "output_type": "execute_result"
    }
   ],
   "source": [
    "df.shape"
   ]
  },
  {
   "cell_type": "code",
   "execution_count": 81,
   "metadata": {},
   "outputs": [
    {
     "data": {
      "text/html": [
       "<div>\n",
       "<style scoped>\n",
       "    .dataframe tbody tr th:only-of-type {\n",
       "        vertical-align: middle;\n",
       "    }\n",
       "\n",
       "    .dataframe tbody tr th {\n",
       "        vertical-align: top;\n",
       "    }\n",
       "\n",
       "    .dataframe thead th {\n",
       "        text-align: right;\n",
       "    }\n",
       "</style>\n",
       "<table border=\"1\" class=\"dataframe\">\n",
       "  <thead>\n",
       "    <tr style=\"text-align: right;\">\n",
       "      <th></th>\n",
       "      <th>Name</th>\n",
       "      <th>Style</th>\n",
       "      <th>Brewery</th>\n",
       "      <th>Beer Name (Full)</th>\n",
       "      <th>Description</th>\n",
       "      <th>ABV</th>\n",
       "      <th>Min IBU</th>\n",
       "      <th>Max IBU</th>\n",
       "      <th>Astringency</th>\n",
       "      <th>Body</th>\n",
       "      <th>...</th>\n",
       "      <th>Fruits</th>\n",
       "      <th>Hoppy</th>\n",
       "      <th>Spices</th>\n",
       "      <th>Malty</th>\n",
       "      <th>review_aroma</th>\n",
       "      <th>review_appearance</th>\n",
       "      <th>review_palate</th>\n",
       "      <th>review_taste</th>\n",
       "      <th>review_overall</th>\n",
       "      <th>number_of_reviews</th>\n",
       "    </tr>\n",
       "  </thead>\n",
       "  <tbody>\n",
       "    <tr>\n",
       "      <th>0</th>\n",
       "      <td>Amber</td>\n",
       "      <td>Altbier</td>\n",
       "      <td>Alaskan Brewing Co.</td>\n",
       "      <td>Alaskan Brewing Co. Alaskan Amber</td>\n",
       "      <td>Notes:Richly malty and long on the palate, wit...</td>\n",
       "      <td>5.3</td>\n",
       "      <td>25</td>\n",
       "      <td>50</td>\n",
       "      <td>13</td>\n",
       "      <td>32</td>\n",
       "      <td>...</td>\n",
       "      <td>33</td>\n",
       "      <td>57</td>\n",
       "      <td>8</td>\n",
       "      <td>111</td>\n",
       "      <td>3.498994</td>\n",
       "      <td>3.636821</td>\n",
       "      <td>3.556338</td>\n",
       "      <td>3.643863</td>\n",
       "      <td>1</td>\n",
       "      <td>497</td>\n",
       "    </tr>\n",
       "    <tr>\n",
       "      <th>1</th>\n",
       "      <td>Double Bag</td>\n",
       "      <td>Altbier</td>\n",
       "      <td>Long Trail Brewing Co.</td>\n",
       "      <td>Long Trail Brewing Co. Double Bag</td>\n",
       "      <td>Notes:This malty, full-bodied double alt is al...</td>\n",
       "      <td>7.2</td>\n",
       "      <td>25</td>\n",
       "      <td>50</td>\n",
       "      <td>12</td>\n",
       "      <td>57</td>\n",
       "      <td>...</td>\n",
       "      <td>24</td>\n",
       "      <td>35</td>\n",
       "      <td>12</td>\n",
       "      <td>84</td>\n",
       "      <td>3.798337</td>\n",
       "      <td>3.846154</td>\n",
       "      <td>3.904366</td>\n",
       "      <td>4.024948</td>\n",
       "      <td>1</td>\n",
       "      <td>481</td>\n",
       "    </tr>\n",
       "    <tr>\n",
       "      <th>2</th>\n",
       "      <td>Long Trail Ale</td>\n",
       "      <td>Altbier</td>\n",
       "      <td>Long Trail Brewing Co.</td>\n",
       "      <td>Long Trail Brewing Co. Long Trail Ale</td>\n",
       "      <td>Notes:Long Trail Ale is a full-bodied amber al...</td>\n",
       "      <td>5.0</td>\n",
       "      <td>25</td>\n",
       "      <td>50</td>\n",
       "      <td>14</td>\n",
       "      <td>37</td>\n",
       "      <td>...</td>\n",
       "      <td>10</td>\n",
       "      <td>54</td>\n",
       "      <td>4</td>\n",
       "      <td>62</td>\n",
       "      <td>3.409814</td>\n",
       "      <td>3.667109</td>\n",
       "      <td>3.600796</td>\n",
       "      <td>3.631300</td>\n",
       "      <td>1</td>\n",
       "      <td>377</td>\n",
       "    </tr>\n",
       "    <tr>\n",
       "      <th>3</th>\n",
       "      <td>Doppelsticke</td>\n",
       "      <td>Altbier</td>\n",
       "      <td>Uerige Obergärige Hausbrauerei GmbH / Zum Uerige</td>\n",
       "      <td>Uerige Obergärige Hausbrauerei GmbH / Zum Ueri...</td>\n",
       "      <td>Notes:</td>\n",
       "      <td>8.5</td>\n",
       "      <td>25</td>\n",
       "      <td>50</td>\n",
       "      <td>13</td>\n",
       "      <td>55</td>\n",
       "      <td>...</td>\n",
       "      <td>49</td>\n",
       "      <td>40</td>\n",
       "      <td>16</td>\n",
       "      <td>119</td>\n",
       "      <td>4.148098</td>\n",
       "      <td>4.033967</td>\n",
       "      <td>4.150815</td>\n",
       "      <td>4.205163</td>\n",
       "      <td>1</td>\n",
       "      <td>368</td>\n",
       "    </tr>\n",
       "    <tr>\n",
       "      <th>4</th>\n",
       "      <td>Sleigh'r Dark Doüble Alt Ale</td>\n",
       "      <td>Altbier</td>\n",
       "      <td>Ninkasi Brewing Company</td>\n",
       "      <td>Ninkasi Brewing Company Sleigh'r Dark Doüble A...</td>\n",
       "      <td>Notes:Called 'Dark Double Alt' on the label.Se...</td>\n",
       "      <td>7.2</td>\n",
       "      <td>25</td>\n",
       "      <td>50</td>\n",
       "      <td>25</td>\n",
       "      <td>51</td>\n",
       "      <td>...</td>\n",
       "      <td>11</td>\n",
       "      <td>51</td>\n",
       "      <td>20</td>\n",
       "      <td>95</td>\n",
       "      <td>3.625000</td>\n",
       "      <td>3.973958</td>\n",
       "      <td>3.734375</td>\n",
       "      <td>3.765625</td>\n",
       "      <td>1</td>\n",
       "      <td>96</td>\n",
       "    </tr>\n",
       "  </tbody>\n",
       "</table>\n",
       "<p>5 rows × 25 columns</p>\n",
       "</div>"
      ],
      "text/plain": [
       "                           Name    Style  \\\n",
       "0                         Amber  Altbier   \n",
       "1                    Double Bag  Altbier   \n",
       "2                Long Trail Ale  Altbier   \n",
       "3                  Doppelsticke  Altbier   \n",
       "4  Sleigh'r Dark Doüble Alt Ale  Altbier   \n",
       "\n",
       "                                            Brewery  \\\n",
       "0                               Alaskan Brewing Co.   \n",
       "1                            Long Trail Brewing Co.   \n",
       "2                            Long Trail Brewing Co.   \n",
       "3  Uerige Obergärige Hausbrauerei GmbH / Zum Uerige   \n",
       "4                           Ninkasi Brewing Company   \n",
       "\n",
       "                                    Beer Name (Full)  \\\n",
       "0                  Alaskan Brewing Co. Alaskan Amber   \n",
       "1                  Long Trail Brewing Co. Double Bag   \n",
       "2              Long Trail Brewing Co. Long Trail Ale   \n",
       "3  Uerige Obergärige Hausbrauerei GmbH / Zum Ueri...   \n",
       "4  Ninkasi Brewing Company Sleigh'r Dark Doüble A...   \n",
       "\n",
       "                                         Description  ABV  Min IBU  Max IBU  \\\n",
       "0  Notes:Richly malty and long on the palate, wit...  5.3       25       50   \n",
       "1  Notes:This malty, full-bodied double alt is al...  7.2       25       50   \n",
       "2  Notes:Long Trail Ale is a full-bodied amber al...  5.0       25       50   \n",
       "3                                             Notes:  8.5       25       50   \n",
       "4  Notes:Called 'Dark Double Alt' on the label.Se...  7.2       25       50   \n",
       "\n",
       "   Astringency  Body  ...  Fruits  Hoppy  Spices  Malty  review_aroma  \\\n",
       "0           13    32  ...      33     57       8    111      3.498994   \n",
       "1           12    57  ...      24     35      12     84      3.798337   \n",
       "2           14    37  ...      10     54       4     62      3.409814   \n",
       "3           13    55  ...      49     40      16    119      4.148098   \n",
       "4           25    51  ...      11     51      20     95      3.625000   \n",
       "\n",
       "   review_appearance  review_palate  review_taste  review_overall  \\\n",
       "0           3.636821       3.556338      3.643863               1   \n",
       "1           3.846154       3.904366      4.024948               1   \n",
       "2           3.667109       3.600796      3.631300               1   \n",
       "3           4.033967       4.150815      4.205163               1   \n",
       "4           3.973958       3.734375      3.765625               1   \n",
       "\n",
       "   number_of_reviews  \n",
       "0                497  \n",
       "1                481  \n",
       "2                377  \n",
       "3                368  \n",
       "4                 96  \n",
       "\n",
       "[5 rows x 25 columns]"
      ]
     },
     "execution_count": 81,
     "metadata": {},
     "output_type": "execute_result"
    }
   ],
   "source": [
    "df.head()"
   ]
  },
  {
   "cell_type": "code",
   "execution_count": 82,
   "metadata": {},
   "outputs": [],
   "source": [
    "df = pd.get_dummies(df, columns=['Style'], drop_first=True)"
   ]
  },
  {
   "cell_type": "code",
   "execution_count": 83,
   "metadata": {},
   "outputs": [],
   "source": [
    "X = df[['ABV', 'Min IBU', 'Max IBU', 'Astringency', 'Body', 'Alcohol', 'Bitter', 'Sweet', 'Sour', 'Salty', 'Fruits', 'Hoppy', 'Spices', 'Malty', 'Style_Barleywine - American', 'Style_Barleywine - English', 'Style_Bitter - English', \n",
    " 'Style_Bitter - English Extra Special / Strong Bitter (ESB)', 'Style_Bière de Champagne / Bière Brut', 'Style_Blonde Ale - American', 'Style_Blonde Ale - Belgian', 'Style_Bock - Doppelbock', 'Style_Bock - Eisbock', \n",
    " 'Style_Bock - Maibock', 'Style_Bock - Traditional', 'Style_Bock - Weizenbock', 'Style_Braggot', 'Style_Brett Beer', 'Style_Brown Ale - American', 'Style_Brown Ale - Belgian Dark', 'Style_Brown Ale - English', 'Style_California Common / Steam Beer', \n",
    " 'Style_Chile Beer', 'Style_Cream Ale', 'Style_Dubbel', 'Style_Farmhouse Ale - Bière de Garde', 'Style_Farmhouse Ale - Sahti', 'Style_Farmhouse Ale - Saison', 'Style_Fruit and Field Beer', 'Style_Gruit / Ancient Herbed Ale', 'Style_Happoshu',     \n",
    " 'Style_Herb and Spice Beer', 'Style_IPA - American', 'Style_IPA - Belgian', 'Style_IPA - Black / Cascadian Dark Ale', 'Style_IPA - English', 'Style_IPA - Imperial', 'Style_IPA - New England', 'Style_Kvass', 'Style_Kölsch', \n",
    " 'Style_Lager - Adjunct', 'Style_Lager - American', 'Style_Lager - American Amber / Red', 'Style_Lager - European / Dortmunder Export', 'Style_Lager - European Dark', 'Style_Lager - European Pale', 'Style_Lager - European Strong', 'Style_Lager - Helles',      \n",
    " 'Style_Lager - India Pale Lager (IPL)', 'Style_Lager - Japanese Rice', 'Style_Lager - Kellerbier / Zwickelbier', 'Style_Lager - Light', 'Style_Lager - Malt Liquor', 'Style_Lager - Munich Dunkel', 'Style_Lager - Märzen / Oktoberfest', \n",
    " 'Style_Lager - Rauchbier', 'Style_Lager - Schwarzbier', 'Style_Lager - Vienna', 'Style_Lambic - Faro', 'Style_Lambic - Fruit', 'Style_Lambic - Gueuze', 'Style_Lambic - Traditional', 'Style_Low Alcohol Beer', 'Style_Mild Ale - English Dark', \n",
    " 'Style_Mild Ale - English Pale', 'Style_Old Ale', 'Style_Pale Ale - American', 'Style_Pale Ale - Belgian', 'Style_Pale Ale - English', 'Style_Pilsner - Bohemian / Czech', 'Style_Pilsner - German', 'Style_Pilsner - Imperial', 'Style_Porter - American', \n",
    " 'Style_Porter - Baltic', 'Style_Porter - English', 'Style_Porter - Imperial', 'Style_Porter - Robust', 'Style_Porter - Smoked', 'Style_Pumpkin Beer', 'Style_Quadrupel (Quad)', 'Style_Red Ale - American Amber / Red', 'Style_Red Ale - Imperial', \n",
    " 'Style_Red Ale - Irish', 'Style_Rye Beer', 'Style_Rye Beer - Roggenbier', 'Style_Scotch Ale / Wee Heavy', 'Style_Scottish Ale', 'Style_Smoked Beer', 'Style_Sour - Berliner Weisse', 'Style_Sour - Flanders Oud Bruin', 'Style_Sour - Flanders Red Ale', \n",
    " 'Style_Sour - Gose', 'Style_Stout - American', 'Style_Stout - American Imperial', 'Style_Stout - English', 'Style_Stout - Foreign / Export', 'Style_Stout - Irish Dry', 'Style_Stout - Oatmeal', 'Style_Stout - Russian Imperial', 'Style_Stout - Sweet / Milk', \n",
    " 'Style_Strong Ale - American', 'Style_Strong Ale - Belgian Dark', 'Style_Strong Ale - Belgian Pale', 'Style_Strong Ale - English', 'Style_Tripel', 'Style_Wheat Beer - American Dark', 'Style_Wheat Beer - American Pale', 'Style_Wheat Beer - Dunkelweizen', \n",
    " 'Style_Wheat Beer - Hefeweizen', 'Style_Wheat Beer - Kristallweizen', 'Style_Wheat Beer - Wheatwine', 'Style_Wheat Beer - Witbier', 'Style_Wild Ale', 'Style_Winter Warmer']]\n",
    "\n",
    "y = df[\"review_overall\"]"
   ]
  },
  {
   "cell_type": "code",
   "execution_count": 84,
   "metadata": {},
   "outputs": [],
   "source": [
    "from sklearn.preprocessing import StandardScaler\n",
    "from sklearn.model_selection import train_test_split\n",
    "\n",
    "X_train, X_test, y_train, y_test = train_test_split(X, y, stratify=y, random_state=12, test_size=0.2, shuffle=True)"
   ]
  },
  {
   "cell_type": "code",
   "execution_count": 85,
   "metadata": {},
   "outputs": [
    {
     "name": "stdout",
     "output_type": "stream",
     "text": [
      "1    1775\n",
      "0     115\n",
      "Name: review_overall, dtype: int64\n"
     ]
    }
   ],
   "source": [
    "print(y_train.value_counts())"
   ]
  },
  {
   "cell_type": "code",
   "execution_count": 86,
   "metadata": {},
   "outputs": [
    {
     "name": "stdout",
     "output_type": "stream",
     "text": [
      "1    444\n",
      "0     29\n",
      "Name: review_overall, dtype: int64\n"
     ]
    }
   ],
   "source": [
    "print(y_test.value_counts())"
   ]
  },
  {
   "cell_type": "code",
   "execution_count": 87,
   "metadata": {},
   "outputs": [
    {
     "data": {
      "text/plain": [
       "'\\n! conda install -c conda-forge imbalanced-learn --y\\n'"
      ]
     },
     "execution_count": 87,
     "metadata": {},
     "output_type": "execute_result"
    }
   ],
   "source": [
    "# Uncomment if you don't have the package installed.\n",
    "\n",
    "\"\"\"\n",
    "! conda install -c conda-forge imbalanced-learn --y\n",
    "\"\"\""
   ]
  },
  {
   "cell_type": "code",
   "execution_count": 88,
   "metadata": {},
   "outputs": [
    {
     "name": "stdout",
     "output_type": "stream",
     "text": [
      "Before Counter({1: 1775, 0: 115})\n",
      "After Counter({1: 1775, 0: 1775})\n"
     ]
    }
   ],
   "source": [
    "from imblearn.over_sampling import RandomOverSampler\n",
    "from collections import Counter\n",
    "\n",
    "counter = Counter(y_train)\n",
    "print('Before', counter)\n",
    "\n",
    "oversampler=RandomOverSampler(sampling_strategy='minority', random_state=123)\n",
    "\n",
    "X_train,y_train=oversampler.fit_resample(X_train,y_train)\n",
    "\n",
    "counter = Counter(y_train)\n",
    "print('After', counter)\n"
   ]
  },
  {
   "cell_type": "code",
   "execution_count": 89,
   "metadata": {},
   "outputs": [
    {
     "data": {
      "text/plain": [
       "(3550, 124)"
      ]
     },
     "execution_count": 89,
     "metadata": {},
     "output_type": "execute_result"
    }
   ],
   "source": [
    "X_train.shape"
   ]
  },
  {
   "cell_type": "code",
   "execution_count": 90,
   "metadata": {},
   "outputs": [
    {
     "data": {
      "text/plain": [
       "0    1775\n",
       "1    1775\n",
       "Name: review_overall, dtype: int64"
      ]
     },
     "execution_count": 90,
     "metadata": {},
     "output_type": "execute_result"
    }
   ],
   "source": [
    "y_train.value_counts()"
   ]
  },
  {
   "cell_type": "code",
   "execution_count": 91,
   "metadata": {},
   "outputs": [],
   "source": [
    "scaler = StandardScaler()\n",
    "X_train_scaled = scaler.fit_transform(X_train)\n",
    "X_test_scaled = scaler.transform(X_test)"
   ]
  },
  {
   "cell_type": "code",
   "execution_count": 92,
   "metadata": {},
   "outputs": [
    {
     "data": {
      "text/plain": [
       "(3550, 124)"
      ]
     },
     "execution_count": 92,
     "metadata": {},
     "output_type": "execute_result"
    }
   ],
   "source": [
    "X_train_scaled.shape"
   ]
  },
  {
   "cell_type": "code",
   "execution_count": 93,
   "metadata": {},
   "outputs": [],
   "source": [
    "y_train = to_categorical(y_train, 2)\n",
    "y_test = to_categorical(y_test, 2)"
   ]
  },
  {
   "cell_type": "code",
   "execution_count": 94,
   "metadata": {},
   "outputs": [
    {
     "data": {
      "text/plain": [
       "(3550, 124)"
      ]
     },
     "execution_count": 94,
     "metadata": {},
     "output_type": "execute_result"
    }
   ],
   "source": [
    "X_train_scaled.shape"
   ]
  },
  {
   "cell_type": "code",
   "execution_count": 95,
   "metadata": {},
   "outputs": [
    {
     "name": "stdout",
     "output_type": "stream",
     "text": [
      "Model: \"sequential_2\"\n",
      "_________________________________________________________________\n",
      "Layer (type)                 Output Shape              Param #   \n",
      "=================================================================\n",
      "dense_6 (Dense)              (None, 48)                6000      \n",
      "_________________________________________________________________\n",
      "dense_7 (Dense)              (None, 24)                1176      \n",
      "_________________________________________________________________\n",
      "dropout_2 (Dropout)          (None, 24)                0         \n",
      "_________________________________________________________________\n",
      "dense_8 (Dense)              (None, 2)                 50        \n",
      "=================================================================\n",
      "Total params: 7,226\n",
      "Trainable params: 7,226\n",
      "Non-trainable params: 0\n",
      "_________________________________________________________________\n"
     ]
    }
   ],
   "source": [
    "model = Sequential()\n",
    "model.add(Dense(48, input_shape = (124, ), activation = \"relu\")) \n",
    "model.add(Dense(24, activation = \"relu\", kernel_regularizer=regularizers.l2(0.01)))\n",
    "model.add(Dropout(0.2))\n",
    "model.add(Dense(2, activation = \"softmax\"))\n",
    "model.compile(Adam(lr = 0.001), \"categorical_crossentropy\", metrics = [\"accuracy\"])\n",
    "model.summary()"
   ]
  },
  {
   "cell_type": "code",
   "execution_count": 96,
   "metadata": {},
   "outputs": [
    {
     "name": "stdout",
     "output_type": "stream",
     "text": [
      "Epoch 1/100\n",
      "111/111 [==============================] - 1s 6ms/step - loss: 0.8718 - accuracy: 0.7050 - val_loss: 0.4872 - val_accuracy: 0.9133\n",
      "Epoch 2/100\n",
      "111/111 [==============================] - 0s 4ms/step - loss: 0.4308 - accuracy: 0.9116 - val_loss: 0.4034 - val_accuracy: 0.9027\n",
      "Epoch 3/100\n",
      "111/111 [==============================] - 1s 5ms/step - loss: 0.3125 - accuracy: 0.9322 - val_loss: 0.3236 - val_accuracy: 0.9154\n",
      "Epoch 4/100\n",
      "111/111 [==============================] - 1s 5ms/step - loss: 0.2508 - accuracy: 0.9405 - val_loss: 0.3038 - val_accuracy: 0.9091\n",
      "Epoch 5/100\n",
      "111/111 [==============================] - 1s 5ms/step - loss: 0.2382 - accuracy: 0.9350 - val_loss: 0.2628 - val_accuracy: 0.9302\n",
      "Epoch 6/100\n",
      "111/111 [==============================] - 1s 5ms/step - loss: 0.1891 - accuracy: 0.9493 - val_loss: 0.2734 - val_accuracy: 0.9197\n",
      "Epoch 7/100\n",
      "111/111 [==============================] - 0s 4ms/step - loss: 0.1764 - accuracy: 0.9540 - val_loss: 0.2736 - val_accuracy: 0.9218\n",
      "Epoch 8/100\n",
      "111/111 [==============================] - 0s 4ms/step - loss: 0.1770 - accuracy: 0.9565 - val_loss: 0.2794 - val_accuracy: 0.9091\n",
      "Epoch 9/100\n",
      "111/111 [==============================] - 0s 4ms/step - loss: 0.1542 - accuracy: 0.9566 - val_loss: 0.2448 - val_accuracy: 0.9239\n",
      "Epoch 10/100\n",
      "111/111 [==============================] - 1s 7ms/step - loss: 0.1541 - accuracy: 0.9556 - val_loss: 0.2417 - val_accuracy: 0.9281\n",
      "Epoch 11/100\n",
      "111/111 [==============================] - 1s 6ms/step - loss: 0.1419 - accuracy: 0.9601 - val_loss: 0.2568 - val_accuracy: 0.9218\n",
      "Epoch 12/100\n",
      "111/111 [==============================] - 1s 7ms/step - loss: 0.1258 - accuracy: 0.9676 - val_loss: 0.2515 - val_accuracy: 0.9239\n",
      "Epoch 13/100\n",
      "111/111 [==============================] - 1s 5ms/step - loss: 0.1279 - accuracy: 0.9680 - val_loss: 0.2593 - val_accuracy: 0.9218\n",
      "Epoch 14/100\n",
      "111/111 [==============================] - 1s 5ms/step - loss: 0.1289 - accuracy: 0.9649 - val_loss: 0.2494 - val_accuracy: 0.9260\n",
      "Epoch 15/100\n",
      "111/111 [==============================] - 1s 6ms/step - loss: 0.1209 - accuracy: 0.9719 - val_loss: 0.2382 - val_accuracy: 0.9323\n",
      "Epoch 16/100\n",
      "111/111 [==============================] - 1s 5ms/step - loss: 0.1312 - accuracy: 0.9661 - val_loss: 0.2393 - val_accuracy: 0.9387\n",
      "Epoch 17/100\n",
      "111/111 [==============================] - 1s 4ms/step - loss: 0.1038 - accuracy: 0.9726 - val_loss: 0.2463 - val_accuracy: 0.9302\n",
      "Epoch 18/100\n",
      "111/111 [==============================] - 0s 4ms/step - loss: 0.0958 - accuracy: 0.9781 - val_loss: 0.2313 - val_accuracy: 0.9345\n",
      "Epoch 19/100\n",
      "111/111 [==============================] - 1s 6ms/step - loss: 0.1033 - accuracy: 0.9753 - val_loss: 0.2503 - val_accuracy: 0.9302\n",
      "Epoch 20/100\n",
      "111/111 [==============================] - 1s 6ms/step - loss: 0.1002 - accuracy: 0.9771 - val_loss: 0.2537 - val_accuracy: 0.9302\n",
      "Epoch 21/100\n",
      "111/111 [==============================] - 1s 5ms/step - loss: 0.0904 - accuracy: 0.9807 - val_loss: 0.2381 - val_accuracy: 0.9387\n",
      "Epoch 22/100\n",
      "111/111 [==============================] - 0s 4ms/step - loss: 0.0832 - accuracy: 0.9806 - val_loss: 0.2664 - val_accuracy: 0.9281\n",
      "Epoch 23/100\n",
      "111/111 [==============================] - 0s 4ms/step - loss: 0.0916 - accuracy: 0.9783 - val_loss: 0.2626 - val_accuracy: 0.9323\n",
      "Epoch 24/100\n",
      "111/111 [==============================] - 0s 4ms/step - loss: 0.0824 - accuracy: 0.9820 - val_loss: 0.2200 - val_accuracy: 0.9471\n",
      "Epoch 25/100\n",
      "111/111 [==============================] - 0s 3ms/step - loss: 0.0813 - accuracy: 0.9845 - val_loss: 0.2517 - val_accuracy: 0.9429\n",
      "Epoch 26/100\n",
      "111/111 [==============================] - 1s 5ms/step - loss: 0.0851 - accuracy: 0.9795 - val_loss: 0.2678 - val_accuracy: 0.9387\n",
      "Epoch 27/100\n",
      "111/111 [==============================] - 0s 4ms/step - loss: 0.0808 - accuracy: 0.9815 - val_loss: 0.2510 - val_accuracy: 0.9450\n",
      "Epoch 28/100\n",
      "111/111 [==============================] - 0s 4ms/step - loss: 0.0746 - accuracy: 0.9825 - val_loss: 0.2338 - val_accuracy: 0.9493\n",
      "Epoch 29/100\n",
      "111/111 [==============================] - 1s 5ms/step - loss: 0.0669 - accuracy: 0.9871 - val_loss: 0.2478 - val_accuracy: 0.9450\n",
      "Epoch 30/100\n",
      "111/111 [==============================] - 0s 4ms/step - loss: 0.0819 - accuracy: 0.9799 - val_loss: 0.2607 - val_accuracy: 0.9493\n",
      "Epoch 31/100\n",
      "111/111 [==============================] - 0s 4ms/step - loss: 0.0647 - accuracy: 0.9875 - val_loss: 0.2385 - val_accuracy: 0.9514\n",
      "Epoch 32/100\n",
      "111/111 [==============================] - 1s 5ms/step - loss: 0.0767 - accuracy: 0.9816 - val_loss: 0.2455 - val_accuracy: 0.9514\n",
      "Epoch 33/100\n",
      "111/111 [==============================] - 0s 4ms/step - loss: 0.0744 - accuracy: 0.9842 - val_loss: 0.2517 - val_accuracy: 0.9429\n",
      "Epoch 34/100\n",
      "111/111 [==============================] - 0s 4ms/step - loss: 0.0640 - accuracy: 0.9857 - val_loss: 0.2487 - val_accuracy: 0.9408\n",
      "Epoch 35/100\n",
      "111/111 [==============================] - 0s 4ms/step - loss: 0.0587 - accuracy: 0.9895 - val_loss: 0.2264 - val_accuracy: 0.9514\n",
      "Epoch 36/100\n",
      "111/111 [==============================] - 0s 4ms/step - loss: 0.0653 - accuracy: 0.9844 - val_loss: 0.2278 - val_accuracy: 0.9577\n",
      "Epoch 37/100\n",
      "111/111 [==============================] - 1s 5ms/step - loss: 0.0624 - accuracy: 0.9894 - val_loss: 0.2544 - val_accuracy: 0.9471\n",
      "Epoch 38/100\n",
      "111/111 [==============================] - 0s 4ms/step - loss: 0.0613 - accuracy: 0.9871 - val_loss: 0.2195 - val_accuracy: 0.9514\n",
      "Epoch 39/100\n",
      "111/111 [==============================] - 1s 6ms/step - loss: 0.0621 - accuracy: 0.9860 - val_loss: 0.2345 - val_accuracy: 0.9493\n",
      "Epoch 40/100\n",
      "111/111 [==============================] - 1s 7ms/step - loss: 0.0628 - accuracy: 0.9877 - val_loss: 0.2589 - val_accuracy: 0.9493\n",
      "Epoch 41/100\n",
      "111/111 [==============================] - 0s 4ms/step - loss: 0.0568 - accuracy: 0.9902 - val_loss: 0.2453 - val_accuracy: 0.9450\n",
      "Epoch 42/100\n",
      "111/111 [==============================] - 1s 4ms/step - loss: 0.0645 - accuracy: 0.9864 - val_loss: 0.2580 - val_accuracy: 0.9493\n",
      "Epoch 43/100\n",
      "111/111 [==============================] - 1s 6ms/step - loss: 0.0513 - accuracy: 0.9915 - val_loss: 0.2318 - val_accuracy: 0.9471\n",
      "Epoch 44/100\n",
      "111/111 [==============================] - 1s 5ms/step - loss: 0.0606 - accuracy: 0.9868 - val_loss: 0.2598 - val_accuracy: 0.9408\n",
      "Epoch 45/100\n",
      "111/111 [==============================] - 1s 5ms/step - loss: 0.0532 - accuracy: 0.9902 - val_loss: 0.2383 - val_accuracy: 0.9535\n",
      "Epoch 46/100\n",
      "111/111 [==============================] - 0s 4ms/step - loss: 0.0483 - accuracy: 0.9913 - val_loss: 0.2105 - val_accuracy: 0.9619\n",
      "Epoch 47/100\n",
      "111/111 [==============================] - 0s 4ms/step - loss: 0.0513 - accuracy: 0.9906 - val_loss: 0.2718 - val_accuracy: 0.9450\n",
      "Epoch 48/100\n",
      "111/111 [==============================] - 1s 5ms/step - loss: 0.0493 - accuracy: 0.9883 - val_loss: 0.2671 - val_accuracy: 0.9450\n",
      "Epoch 49/100\n",
      "111/111 [==============================] - 0s 4ms/step - loss: 0.0485 - accuracy: 0.9913 - val_loss: 0.2411 - val_accuracy: 0.9514\n",
      "Epoch 50/100\n",
      "111/111 [==============================] - 0s 4ms/step - loss: 0.0524 - accuracy: 0.9900 - val_loss: 0.2514 - val_accuracy: 0.9577\n",
      "Epoch 51/100\n",
      "111/111 [==============================] - 0s 4ms/step - loss: 0.0470 - accuracy: 0.9898 - val_loss: 0.2378 - val_accuracy: 0.9598\n",
      "Epoch 52/100\n",
      "111/111 [==============================] - 0s 3ms/step - loss: 0.0501 - accuracy: 0.9907 - val_loss: 0.2655 - val_accuracy: 0.9450\n",
      "Epoch 53/100\n",
      "111/111 [==============================] - 0s 4ms/step - loss: 0.0436 - accuracy: 0.9902 - val_loss: 0.2546 - val_accuracy: 0.9619\n",
      "Epoch 54/100\n",
      "111/111 [==============================] - 0s 3ms/step - loss: 0.0436 - accuracy: 0.9932 - val_loss: 0.2723 - val_accuracy: 0.9556\n",
      "Epoch 55/100\n",
      "111/111 [==============================] - 0s 4ms/step - loss: 0.0462 - accuracy: 0.9904 - val_loss: 0.2638 - val_accuracy: 0.9598\n",
      "Epoch 56/100\n",
      "111/111 [==============================] - 0s 4ms/step - loss: 0.0443 - accuracy: 0.9898 - val_loss: 0.2558 - val_accuracy: 0.9641\n",
      "Epoch 57/100\n",
      "111/111 [==============================] - 1s 4ms/step - loss: 0.0442 - accuracy: 0.9912 - val_loss: 0.2874 - val_accuracy: 0.9493\n",
      "Epoch 58/100\n",
      "111/111 [==============================] - 0s 3ms/step - loss: 0.0368 - accuracy: 0.9927 - val_loss: 0.2515 - val_accuracy: 0.9662\n",
      "Epoch 59/100\n",
      "111/111 [==============================] - 0s 4ms/step - loss: 0.0463 - accuracy: 0.9916 - val_loss: 0.2732 - val_accuracy: 0.9598\n",
      "Epoch 60/100\n",
      "111/111 [==============================] - 0s 4ms/step - loss: 0.0367 - accuracy: 0.9952 - val_loss: 0.2569 - val_accuracy: 0.9683\n",
      "Epoch 61/100\n",
      "111/111 [==============================] - 0s 4ms/step - loss: 0.0391 - accuracy: 0.9939 - val_loss: 0.2559 - val_accuracy: 0.9662\n",
      "Epoch 62/100\n",
      "111/111 [==============================] - 0s 4ms/step - loss: 0.0412 - accuracy: 0.9921 - val_loss: 0.2788 - val_accuracy: 0.9598\n",
      "Epoch 63/100\n",
      "111/111 [==============================] - 0s 4ms/step - loss: 0.0360 - accuracy: 0.9936 - val_loss: 0.2702 - val_accuracy: 0.9577\n",
      "Epoch 64/100\n",
      "111/111 [==============================] - 0s 4ms/step - loss: 0.0360 - accuracy: 0.9932 - val_loss: 0.2767 - val_accuracy: 0.9619\n",
      "Epoch 65/100\n",
      "111/111 [==============================] - 0s 4ms/step - loss: 0.0369 - accuracy: 0.9916 - val_loss: 0.2890 - val_accuracy: 0.9556\n",
      "Epoch 66/100\n",
      "111/111 [==============================] - 0s 4ms/step - loss: 0.0351 - accuracy: 0.9937 - val_loss: 0.2687 - val_accuracy: 0.9641\n",
      "Epoch 67/100\n",
      "111/111 [==============================] - 0s 3ms/step - loss: 0.0399 - accuracy: 0.9938 - val_loss: 0.2922 - val_accuracy: 0.9598\n",
      "Epoch 68/100\n",
      "111/111 [==============================] - 0s 4ms/step - loss: 0.0377 - accuracy: 0.9911 - val_loss: 0.2753 - val_accuracy: 0.9598\n",
      "Epoch 69/100\n",
      "111/111 [==============================] - 0s 4ms/step - loss: 0.0388 - accuracy: 0.9929 - val_loss: 0.2965 - val_accuracy: 0.9577\n",
      "Epoch 70/100\n",
      "111/111 [==============================] - 1s 6ms/step - loss: 0.0386 - accuracy: 0.9921 - val_loss: 0.2817 - val_accuracy: 0.9662\n",
      "Epoch 71/100\n",
      "111/111 [==============================] - 1s 5ms/step - loss: 0.0331 - accuracy: 0.9956 - val_loss: 0.2923 - val_accuracy: 0.9556\n",
      "Epoch 72/100\n",
      "111/111 [==============================] - 1s 5ms/step - loss: 0.0301 - accuracy: 0.9951 - val_loss: 0.3148 - val_accuracy: 0.9535\n",
      "Epoch 73/100\n",
      "111/111 [==============================] - 0s 4ms/step - loss: 0.0337 - accuracy: 0.9943 - val_loss: 0.3019 - val_accuracy: 0.9598\n",
      "Epoch 74/100\n",
      "111/111 [==============================] - 0s 4ms/step - loss: 0.0301 - accuracy: 0.9954 - val_loss: 0.3113 - val_accuracy: 0.9641\n",
      "Epoch 75/100\n",
      "111/111 [==============================] - 0s 4ms/step - loss: 0.0295 - accuracy: 0.9958 - val_loss: 0.2980 - val_accuracy: 0.9577\n",
      "Epoch 76/100\n",
      "111/111 [==============================] - 0s 4ms/step - loss: 0.0302 - accuracy: 0.9952 - val_loss: 0.2965 - val_accuracy: 0.9598\n",
      "Epoch 77/100\n",
      "111/111 [==============================] - 1s 5ms/step - loss: 0.0295 - accuracy: 0.9958 - val_loss: 0.2908 - val_accuracy: 0.9662\n",
      "Epoch 78/100\n",
      "111/111 [==============================] - 0s 4ms/step - loss: 0.0269 - accuracy: 0.9966 - val_loss: 0.2853 - val_accuracy: 0.9619\n",
      "Epoch 79/100\n",
      "111/111 [==============================] - 0s 4ms/step - loss: 0.0279 - accuracy: 0.9967 - val_loss: 0.2900 - val_accuracy: 0.9662\n",
      "Epoch 80/100\n",
      "111/111 [==============================] - 1s 6ms/step - loss: 0.0264 - accuracy: 0.9965 - val_loss: 0.2984 - val_accuracy: 0.9641\n"
     ]
    }
   ],
   "source": [
    "from keras.callbacks import ModelCheckpoint\n",
    "\n",
    "history = model.fit(X_train_scaled, y_train, verbose=1, epochs=200, validation_data=(X_test_scaled, y_test), callbacks = [EarlyStopping(monitor='val_accuracy', mode = 'max', patience=20),\n",
    "             ModelCheckpoint(filepath='best_model.h5', monitor='val_accuracy', mode = 'max', save_best_only=True)])"
   ]
  },
  {
   "cell_type": "code",
   "execution_count": 97,
   "metadata": {},
   "outputs": [],
   "source": [
    "from keras.models import load_model\n",
    "\n",
    "saved_model = load_model('best_model.h5')\n"
   ]
  },
  {
   "cell_type": "code",
   "execution_count": 98,
   "metadata": {},
   "outputs": [
    {
     "data": {
      "text/plain": [
       "array([[ 24,   5],\n",
       "       [ 10, 434]])"
      ]
     },
     "execution_count": 98,
     "metadata": {},
     "output_type": "execute_result"
    }
   ],
   "source": [
    "from sklearn.metrics import confusion_matrix\n",
    "\n",
    "y_pred_NN = np.argmax(saved_model.predict(X_test_scaled), axis=-1)\n",
    "y_test_NN = np.argmax(y_test, axis=1)\n",
    "confusion_matrix(y_test_NN, y_pred_NN)"
   ]
  },
  {
   "cell_type": "code",
   "execution_count": 99,
   "metadata": {},
   "outputs": [
    {
     "data": {
      "image/png": "[encoded data removed]",
      "text/plain": [
       "<Figure size 432x288 with 2 Axes>"
      ]
     },
     "metadata": {
      "needs_background": "light"
     },
     "output_type": "display_data"
    }
   ],
   "source": [
    "confusion_matrix(y_test_NN, y_pred_NN)\n",
    "sns.heatmap(confusion_matrix(y_test_NN, y_pred_NN), annot=True, fmt='.0f', cmap='YlGnBu',  xticklabels=[0,1],  yticklabels=[0,1] )\n",
    "plt.ylabel('Real Labels')\n",
    "plt.xlabel('Predicted Labels')\n",
    "plt.show()"
   ]
  },
  {
   "cell_type": "code",
   "execution_count": 100,
   "metadata": {},
   "outputs": [
    {
     "name": "stdout",
     "output_type": "stream",
     "text": [
      "              precision    recall  f1-score   support\n",
      "\n",
      "           0       0.71      0.83      0.76        29\n",
      "           1       0.99      0.98      0.98       444\n",
      "\n",
      "    accuracy                           0.97       473\n",
      "   macro avg       0.85      0.90      0.87       473\n",
      "weighted avg       0.97      0.97      0.97       473\n",
      "\n"
     ]
    }
   ],
   "source": [
    "print(classification_report(y_test_NN, y_pred_NN))"
   ]
  },
  {
   "cell_type": "code",
   "execution_count": 101,
   "metadata": {},
   "outputs": [
    {
     "name": "stdout",
     "output_type": "stream",
     "text": [
      "0.9830124575311437\n"
     ]
    }
   ],
   "source": [
    "from sklearn.metrics import f1_score\n",
    "\n",
    "print(f1_score(y_test_NN, y_pred_NN))"
   ]
  },
  {
   "cell_type": "code",
   "execution_count": 102,
   "metadata": {},
   "outputs": [
    {
     "data": {
      "text/plain": [
       "0.9774774774774775"
      ]
     },
     "execution_count": 102,
     "metadata": {},
     "output_type": "execute_result"
    }
   ],
   "source": [
    "from sklearn.metrics import recall_score\n",
    "\n",
    "recall_score(y_test_NN, y_pred_NN)"
   ]
  },
  {
   "cell_type": "code",
   "execution_count": 103,
   "metadata": {},
   "outputs": [
    {
     "data": {
      "text/plain": [
       "0.9682875264270613"
      ]
     },
     "execution_count": 103,
     "metadata": {},
     "output_type": "execute_result"
    }
   ],
   "source": [
    "from sklearn.metrics import accuracy_score\n",
    "\n",
    "accuracy_score(y_test_NN, y_pred_NN)"
   ]
  },
  {
   "cell_type": "code",
   "execution_count": 104,
   "metadata": {},
   "outputs": [
    {
     "name": "stdout",
     "output_type": "stream",
     "text": [
      "dict_keys(['loss', 'accuracy', 'val_loss', 'val_accuracy'])\n"
     ]
    },
    {
     "data": {
      "image/png": "[encoded data removed]",
      "text/plain": [
       "<Figure size 432x288 with 1 Axes>"
      ]
     },
     "metadata": {
      "needs_background": "light"
     },
     "output_type": "display_data"
    },
    {
     "data": {
      "image/png": "[encoded data removed]",
      "text/plain": [
       "<Figure size 432x288 with 1 Axes>"
      ]
     },
     "metadata": {
      "needs_background": "light"
     },
     "output_type": "display_data"
    }
   ],
   "source": [
    "print(history.history.keys())\n",
    "#  \"Accuracy\"\n",
    "plt.plot(history.history['accuracy'])\n",
    "plt.plot(history.history['val_accuracy'])\n",
    "plt.title('model accuracy')\n",
    "plt.ylabel('accuracy')\n",
    "plt.xlabel('epoch')\n",
    "plt.legend(['train', 'validation'], loc='lower right')\n",
    "plt.show()\n",
    "# \"Loss\"\n",
    "plt.plot(history.history['loss'])\n",
    "plt.plot(history.history['val_loss'])\n",
    "plt.title('model loss')\n",
    "plt.ylabel('loss')\n",
    "plt.xlabel('epoch')\n",
    "plt.legend(['train', 'validation'], loc='upper right')\n",
    "plt.show()"
   ]
  },
  {
   "cell_type": "code",
   "execution_count": 105,
   "metadata": {},
   "outputs": [],
   "source": [
    "historia = pd.DataFrame(history.history)"
   ]
  },
  {
   "cell_type": "code",
   "execution_count": 106,
   "metadata": {},
   "outputs": [
    {
     "data": {
      "text/html": [
       "<div>\n",
       "<style scoped>\n",
       "    .dataframe tbody tr th:only-of-type {\n",
       "        vertical-align: middle;\n",
       "    }\n",
       "\n",
       "    .dataframe tbody tr th {\n",
       "        vertical-align: top;\n",
       "    }\n",
       "\n",
       "    .dataframe thead th {\n",
       "        text-align: right;\n",
       "    }\n",
       "</style>\n",
       "<table border=\"1\" class=\"dataframe\">\n",
       "  <thead>\n",
       "    <tr style=\"text-align: right;\">\n",
       "      <th></th>\n",
       "      <th>loss</th>\n",
       "      <th>accuracy</th>\n",
       "      <th>val_loss</th>\n",
       "      <th>val_accuracy</th>\n",
       "    </tr>\n",
       "  </thead>\n",
       "  <tbody>\n",
       "    <tr>\n",
       "      <th>59</th>\n",
       "      <td>0.040374</td>\n",
       "      <td>0.993521</td>\n",
       "      <td>0.256860</td>\n",
       "      <td>0.968288</td>\n",
       "    </tr>\n",
       "    <tr>\n",
       "      <th>69</th>\n",
       "      <td>0.035349</td>\n",
       "      <td>0.993239</td>\n",
       "      <td>0.281750</td>\n",
       "      <td>0.966173</td>\n",
       "    </tr>\n",
       "    <tr>\n",
       "      <th>57</th>\n",
       "      <td>0.046260</td>\n",
       "      <td>0.989296</td>\n",
       "      <td>0.251534</td>\n",
       "      <td>0.966173</td>\n",
       "    </tr>\n",
       "    <tr>\n",
       "      <th>78</th>\n",
       "      <td>0.029549</td>\n",
       "      <td>0.995775</td>\n",
       "      <td>0.289980</td>\n",
       "      <td>0.966173</td>\n",
       "    </tr>\n",
       "    <tr>\n",
       "      <th>76</th>\n",
       "      <td>0.029745</td>\n",
       "      <td>0.995493</td>\n",
       "      <td>0.290831</td>\n",
       "      <td>0.966173</td>\n",
       "    </tr>\n",
       "  </tbody>\n",
       "</table>\n",
       "</div>"
      ],
      "text/plain": [
       "        loss  accuracy  val_loss  val_accuracy\n",
       "59  0.040374  0.993521  0.256860      0.968288\n",
       "69  0.035349  0.993239  0.281750      0.966173\n",
       "57  0.046260  0.989296  0.251534      0.966173\n",
       "78  0.029549  0.995775  0.289980      0.966173\n",
       "76  0.029745  0.995493  0.290831      0.966173"
      ]
     },
     "execution_count": 106,
     "metadata": {},
     "output_type": "execute_result"
    }
   ],
   "source": [
    "historia.sort_values('val_accuracy', ascending=False).head(5)"
   ]
  },
  {
   "cell_type": "code",
   "execution_count": 107,
   "metadata": {},
   "outputs": [
    {
     "data": {
      "text/plain": [
       "0.9025318421870145"
      ]
     },
     "execution_count": 107,
     "metadata": {},
     "output_type": "execute_result"
    }
   ],
   "source": [
    "\n",
    "from sklearn.metrics import roc_auc_score\n",
    "\n",
    "roc_auc_score(y_test_NN, y_pred_NN)\n"
   ]
  },
  {
   "cell_type": "code",
   "execution_count": 108,
   "metadata": {},
   "outputs": [
    {
     "data": {
      "image/png": "[encoded data removed]",
      "text/plain": [
       "<Figure size 432x288 with 1 Axes>"
      ]
     },
     "metadata": {
      "needs_background": "light"
     },
     "output_type": "display_data"
    }
   ],
   "source": [
    "from sklearn.metrics import roc_curve\n",
    "from sklearn.metrics import auc\n",
    "\n",
    "y_pred_keras = saved_model.predict(X_test_scaled)[:,1]\n",
    "\n",
    "fpr_keras, tpr_keras, thresholds_keras = roc_curve(y_test_NN, y_pred_keras)\n",
    "\n",
    "auc_keras = auc(fpr_keras, tpr_keras)\n",
    "\n",
    "plt.plot([0, 1], [0, 1], 'k--')\n",
    "plt.plot(fpr_keras, tpr_keras, label='Keras Sequential (area = {:.3f})'.format(auc_keras))\n",
    "plt.xlabel('False positive rate')\n",
    "plt.ylabel('True positive rate')\n",
    "plt.title('ROC curve')\n",
    "plt.legend(loc='best')\n",
    "plt.show()"
   ]
  }
 ],
 "metadata": {
  "interpreter": {
   "hash": "c5abe1dd6f168b4f5e67de02cffc00ce8cef82ade2b382edc6fecc892b15c5a1"
  },
  "kernelspec": {
   "display_name": "Python 3.8.8 64-bit ('base': conda)",
   "language": "python",
   "name": "python3"
  },
  "language_info": {
   "codemirror_mode": {
    "name": "ipython",
    "version": 3
   },
   "file_extension": ".py",
   "mimetype": "text/x-python",
   "name": "python",
   "nbconvert_exporter": "python",
   "pygments_lexer": "ipython3",
   "version": "3.8.8"
  },
  "orig_nbformat": 4
 },
 "nbformat": 4,
 "nbformat_minor": 2
}
